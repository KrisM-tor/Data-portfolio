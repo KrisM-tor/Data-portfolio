{
 "cells": [
  {
   "cell_type": "markdown",
   "metadata": {},
   "source": [
    "# Missing Values Code-Along"
   ]
  },
  {
   "cell_type": "markdown",
   "metadata": {},
   "source": [
    "Here, we'll explore different ways of dealing with data with missing values. Let's go ahead and open up the ```customer_order_data.csv``` after importing the pandas library. "
   ]
  },
  {
   "cell_type": "code",
   "execution_count": 1,
   "metadata": {},
   "outputs": [],
   "source": [
    "import pandas as pd\n",
    "\n",
    "df = pd.read_csv('../data/order_data/customer_order_data.csv')"
   ]
  },
  {
   "cell_type": "markdown",
   "metadata": {},
   "source": [
    "First, let's make sure we understand what's in the data by taking a look at a few rows. "
   ]
  },
  {
   "cell_type": "code",
   "execution_count": 6,
   "metadata": {},
   "outputs": [
    {
     "data": {
      "text/html": [
       "<div>\n",
       "<style scoped>\n",
       "    .dataframe tbody tr th:only-of-type {\n",
       "        vertical-align: middle;\n",
       "    }\n",
       "\n",
       "    .dataframe tbody tr th {\n",
       "        vertical-align: top;\n",
       "    }\n",
       "\n",
       "    .dataframe thead th {\n",
       "        text-align: right;\n",
       "    }\n",
       "</style>\n",
       "<table border=\"1\" class=\"dataframe\">\n",
       "  <thead>\n",
       "    <tr style=\"text-align: right;\">\n",
       "      <th></th>\n",
       "      <th>customer_id</th>\n",
       "      <th>age</th>\n",
       "      <th>continent</th>\n",
       "      <th>price</th>\n",
       "      <th>order_id</th>\n",
       "    </tr>\n",
       "  </thead>\n",
       "  <tbody>\n",
       "    <tr>\n",
       "      <th>0</th>\n",
       "      <td>01d3259f5b6a4cb4922ec2e0afb5e646</td>\n",
       "      <td>79</td>\n",
       "      <td>North America</td>\n",
       "      <td>407.58</td>\n",
       "      <td>4dec70945168406b9746c5132fdd7f1d</td>\n",
       "    </tr>\n",
       "    <tr>\n",
       "      <th>1</th>\n",
       "      <td>36ef50f007c34aad9c6a63710c9a4563</td>\n",
       "      <td>42</td>\n",
       "      <td>Africa</td>\n",
       "      <td>NaN</td>\n",
       "      <td>c317b09e68904e149dee8e0a7e9303e3</td>\n",
       "    </tr>\n",
       "    <tr>\n",
       "      <th>2</th>\n",
       "      <td>89b6495d66784f85ad0b7fd5eae96914</td>\n",
       "      <td>25</td>\n",
       "      <td>Europe</td>\n",
       "      <td>144.99</td>\n",
       "      <td>bd0fb7ad7f77474f977ecf0a20843d06</td>\n",
       "    </tr>\n",
       "    <tr>\n",
       "      <th>3</th>\n",
       "      <td>2612b5785b1d4108a788497caf1ea719</td>\n",
       "      <td>29</td>\n",
       "      <td>Africa</td>\n",
       "      <td>371.19</td>\n",
       "      <td>64bc1215da9c48969d4307f66fb5997b</td>\n",
       "    </tr>\n",
       "    <tr>\n",
       "      <th>4</th>\n",
       "      <td>c71c66d9b1e24ba6b14df4db75755e5f</td>\n",
       "      <td>55</td>\n",
       "      <td>North America</td>\n",
       "      <td>NaN</td>\n",
       "      <td>a03c3521321842428ee809ff973cf9e7</td>\n",
       "    </tr>\n",
       "    <tr>\n",
       "      <th>5</th>\n",
       "      <td>830f7188f1b1440c8a0a2b54ad7818b6</td>\n",
       "      <td>61</td>\n",
       "      <td>North America</td>\n",
       "      <td>286.87</td>\n",
       "      <td>64dc723c742e40e1bc717fd935c5ba84</td>\n",
       "    </tr>\n",
       "    <tr>\n",
       "      <th>6</th>\n",
       "      <td>22162db064ab4e09ac5e711f95ead4a3</td>\n",
       "      <td>53</td>\n",
       "      <td>Asia</td>\n",
       "      <td>467.28</td>\n",
       "      <td>e4a2bc15351d41c087fa825e7c5ebcec</td>\n",
       "    </tr>\n",
       "    <tr>\n",
       "      <th>7</th>\n",
       "      <td>279c17fe1d164ae7a75ba96f2111e6e9</td>\n",
       "      <td>80</td>\n",
       "      <td>Australia</td>\n",
       "      <td>115.61</td>\n",
       "      <td>162166d3127347a3a1eb8feaba83176e</td>\n",
       "    </tr>\n",
       "    <tr>\n",
       "      <th>8</th>\n",
       "      <td>f14ac1a17be44ecb8bdff3a21968fc14</td>\n",
       "      <td>50</td>\n",
       "      <td>North America</td>\n",
       "      <td>NaN</td>\n",
       "      <td>978580cc242146f3b37582aa66141e69</td>\n",
       "    </tr>\n",
       "    <tr>\n",
       "      <th>9</th>\n",
       "      <td>bc4ccb262e45466db88a5cf1a741e275</td>\n",
       "      <td>35</td>\n",
       "      <td>Asia</td>\n",
       "      <td>369.29</td>\n",
       "      <td>6c28ac87c7da4d45b83b3d0affe71fee</td>\n",
       "    </tr>\n",
       "    <tr>\n",
       "      <th>10</th>\n",
       "      <td>973f2f6e14e5457f82c238d92e39bbc1</td>\n",
       "      <td>80</td>\n",
       "      <td>Africa</td>\n",
       "      <td>59.96</td>\n",
       "      <td>bc20452efa074c249f69190b858ba0d1</td>\n",
       "    </tr>\n",
       "    <tr>\n",
       "      <th>11</th>\n",
       "      <td>1eabdc139a1a4669bf8fe13d145d3f7e</td>\n",
       "      <td>83</td>\n",
       "      <td>North America</td>\n",
       "      <td>NaN</td>\n",
       "      <td>f87bf147c73f4a34bd910b508e39a0a9</td>\n",
       "    </tr>\n",
       "    <tr>\n",
       "      <th>12</th>\n",
       "      <td>e9b626b5edc24569a08d2e88f357721d</td>\n",
       "      <td>70</td>\n",
       "      <td>Australia</td>\n",
       "      <td>319.11</td>\n",
       "      <td>e8180c0d09e94d14953a44a785f49499</td>\n",
       "    </tr>\n",
       "    <tr>\n",
       "      <th>13</th>\n",
       "      <td>6579d258c3a04349918cbdf224fc8c18</td>\n",
       "      <td>83</td>\n",
       "      <td>Europe</td>\n",
       "      <td>326.12</td>\n",
       "      <td>ecea731c96714b13a8ecbdf0d13ca9a1</td>\n",
       "    </tr>\n",
       "    <tr>\n",
       "      <th>14</th>\n",
       "      <td>8a93408a0b18480ebd56af114f836032</td>\n",
       "      <td>47</td>\n",
       "      <td>Africa</td>\n",
       "      <td>NaN</td>\n",
       "      <td>991a462cbe89449a889a96fd5e547df4</td>\n",
       "    </tr>\n",
       "  </tbody>\n",
       "</table>\n",
       "</div>"
      ],
      "text/plain": [
       "                         customer_id  age      continent   price  \\\n",
       "0   01d3259f5b6a4cb4922ec2e0afb5e646   79  North America  407.58   \n",
       "1   36ef50f007c34aad9c6a63710c9a4563   42         Africa     NaN   \n",
       "2   89b6495d66784f85ad0b7fd5eae96914   25         Europe  144.99   \n",
       "3   2612b5785b1d4108a788497caf1ea719   29         Africa  371.19   \n",
       "4   c71c66d9b1e24ba6b14df4db75755e5f   55  North America     NaN   \n",
       "5   830f7188f1b1440c8a0a2b54ad7818b6   61  North America  286.87   \n",
       "6   22162db064ab4e09ac5e711f95ead4a3   53           Asia  467.28   \n",
       "7   279c17fe1d164ae7a75ba96f2111e6e9   80      Australia  115.61   \n",
       "8   f14ac1a17be44ecb8bdff3a21968fc14   50  North America     NaN   \n",
       "9   bc4ccb262e45466db88a5cf1a741e275   35           Asia  369.29   \n",
       "10  973f2f6e14e5457f82c238d92e39bbc1   80         Africa   59.96   \n",
       "11  1eabdc139a1a4669bf8fe13d145d3f7e   83  North America     NaN   \n",
       "12  e9b626b5edc24569a08d2e88f357721d   70      Australia  319.11   \n",
       "13  6579d258c3a04349918cbdf224fc8c18   83         Europe  326.12   \n",
       "14  8a93408a0b18480ebd56af114f836032   47         Africa     NaN   \n",
       "\n",
       "                            order_id  \n",
       "0   4dec70945168406b9746c5132fdd7f1d  \n",
       "1   c317b09e68904e149dee8e0a7e9303e3  \n",
       "2   bd0fb7ad7f77474f977ecf0a20843d06  \n",
       "3   64bc1215da9c48969d4307f66fb5997b  \n",
       "4   a03c3521321842428ee809ff973cf9e7  \n",
       "5   64dc723c742e40e1bc717fd935c5ba84  \n",
       "6   e4a2bc15351d41c087fa825e7c5ebcec  \n",
       "7   162166d3127347a3a1eb8feaba83176e  \n",
       "8   978580cc242146f3b37582aa66141e69  \n",
       "9   6c28ac87c7da4d45b83b3d0affe71fee  \n",
       "10  bc20452efa074c249f69190b858ba0d1  \n",
       "11  f87bf147c73f4a34bd910b508e39a0a9  \n",
       "12  e8180c0d09e94d14953a44a785f49499  \n",
       "13  ecea731c96714b13a8ecbdf0d13ca9a1  \n",
       "14  991a462cbe89449a889a96fd5e547df4  "
      ]
     },
     "execution_count": 6,
     "metadata": {},
     "output_type": "execute_result"
    }
   ],
   "source": [
    "df.head(15)"
   ]
  },
  {
   "cell_type": "markdown",
   "metadata": {},
   "source": [
    "We already see some NaN values in the price column. This is good! We know that we need to be careful how we proceed.  \n",
    "\n",
    "The data itself seems decent: we have a ```customer_id``` to uniquely identify each customer while protecting their privacy. Similarly, we have a unique ```order_id``` associated to each order. In between, we have a bit of data on each customer: their ```age``` and on which ```continent``` they live. Finally, we have the ```price``` of the order they made. "
   ]
  },
  {
   "cell_type": "markdown",
   "metadata": {},
   "source": [
    "Let's consider some of the basic questions we might ask about this data. For instance, let's answer the following questions:\n",
    "\n",
    "1. How many customers do we have from each continent?\n",
    "\n",
    "2. How many repeat buyers do we have?\n",
    "\n",
    "3. What is the average age of each customer?\n",
    "\n",
    "4. What is the average order value?\n",
    "\n",
    "5. What is the average order value based on age ranges?\n",
    "\n",
    "6. What is the average order value based on continent?"
   ]
  },
  {
   "cell_type": "markdown",
   "metadata": {},
   "source": [
    "### Question 1"
   ]
  },
  {
   "cell_type": "markdown",
   "metadata": {},
   "source": [
    "We use this question as an example to introduce some new functions that will be very useful to you in answering the next few questions. "
   ]
  },
  {
   "cell_type": "markdown",
   "metadata": {},
   "source": [
    "We want to count the number of customers from each continent. In SQL, this might look like ```SELECT continent, COUNT(distinct customer_id) from orders GROUP BY 1 ORDER BY 2 DESC```, but how do we do this with Python? Let's first grab only the ```customer_id``` and ```continent``` column of our dataframe, and drop any duplicated data (for instance, due to repeat buyers)."
   ]
  },
  {
   "cell_type": "code",
   "execution_count": 7,
   "metadata": {},
   "outputs": [],
   "source": [
    "customers_continents = df[['customer_id', 'continent']].drop_duplicates()"
   ]
  },
  {
   "cell_type": "markdown",
   "metadata": {},
   "source": [
    "Next, we'll use a *very useful* aggregation function that achieves the same objective as the SQL query above. It looks like this: ```dataframe.groupby(column or list of columns).method()```. That is, given a dataframe, we use the ```groupby``` method and specify which columns we want to aggregate. Finally, we pass a method specifying how we want the data to be aggregated. Let's aggregate on ```continent``` and use the ```size()``` method to count how many entries are associated with each continent. Since we already dropped duplicate data, this will tell us exactly what we want! Details on all the methods with a ```groupby``` object can be found [here](https://pandas.pydata.org/docs/reference/groupby.html#computations-descriptive-stats)."
   ]
  },
  {
   "cell_type": "code",
   "execution_count": 1,
   "metadata": {},
   "outputs": [],
   "source": [
    "#customers by continent - your code goes below:\n"
   ]
  },
  {
   "cell_type": "markdown",
   "metadata": {},
   "source": [
    "We have approximately the same amount of customers from each continent. Nothing out of the ordinary here!"
   ]
  },
  {
   "cell_type": "markdown",
   "metadata": {},
   "source": [
    "### Question 2"
   ]
  },
  {
   "cell_type": "markdown",
   "metadata": {},
   "source": [
    "Let's use some of the techniques we covered in class. In particular, we will use the ```pd.value_counts``` function, and select the data having values greater than 1. Finally, we'll get the shape of the data. "
   ]
  },
  {
   "cell_type": "code",
   "execution_count": 2,
   "metadata": {},
   "outputs": [],
   "source": [
    "#repeat buyers - your code goes below:\n"
   ]
  },
  {
   "cell_type": "markdown",
   "metadata": {},
   "source": [
    "A quick exercise here would be checking how many customers we have in total. Just under half of our customers are repeat buyers."
   ]
  },
  {
   "cell_type": "markdown",
   "metadata": {},
   "source": [
    "### Question 3"
   ]
  },
  {
   "cell_type": "markdown",
   "metadata": {},
   "source": [
    "Recall that we previously used the ```mean()``` method with dataframes."
   ]
  },
  {
   "cell_type": "code",
   "execution_count": 3,
   "metadata": {},
   "outputs": [],
   "source": [
    "#mean age - your code goes below:\n"
   ]
  },
  {
   "cell_type": "markdown",
   "metadata": {},
   "source": [
    "### Question 4"
   ]
  },
  {
   "cell_type": "markdown",
   "metadata": {},
   "source": [
    "Here is where we have to start being careful! Recall that we saw some missing values in the ```price``` column. If we look at the documentation for the dataframe ```mean()``` method [here](https://pandas.pydata.org/docs/reference/api/pandas.DataFrame.mean.html?highlight=mean#pandas.DataFrame.mean), we see that it defaults to passing over missing values. If the missing values are unbiased (that is, they occur with equal probability across each subgroup), this is fine --- but we should make sure this is the case. Let's look at how our data is distributed after we drop missing values, using the ```dropna()``` method."
   ]
  },
  {
   "cell_type": "code",
   "execution_count": 15,
   "metadata": {},
   "outputs": [],
   "source": [
    "no_miss_df = df.dropna()"
   ]
  },
  {
   "cell_type": "markdown",
   "metadata": {},
   "source": [
    "We have two fields to investigate: ```age``` and ```continent```. To make sure the data looks good for age, we'll produce a quick, basic plot using some built-in plotting methods (note: there will be a *lot* more on plotting later)."
   ]
  },
  {
   "cell_type": "code",
   "execution_count": 24,
   "metadata": {},
   "outputs": [
    {
     "data": {
      "text/plain": [
       "<AxesSubplot:xlabel='age'>"
      ]
     },
     "execution_count": 24,
     "metadata": {},
     "output_type": "execute_result"
    },
    {
     "data": {
      "image/png": "[encoded data removed]",
      "text/plain": [
       "<Figure size 432x288 with 1 Axes>"
      ]
     },
     "metadata": {
      "needs_background": "light"
     },
     "output_type": "display_data"
    }
   ],
   "source": [
    "no_miss_df.groupby('age').size().plot(kind='bar')"
   ]
  },
  {
   "cell_type": "code",
   "execution_count": 19,
   "metadata": {},
   "outputs": [
    {
     "data": {
      "text/plain": [
       "<AxesSubplot:xlabel='age'>"
      ]
     },
     "execution_count": 19,
     "metadata": {},
     "output_type": "execute_result"
    },
    {
     "data": {
      "image/png": "[encoded data removed]",
      "text/plain": [
       "<Figure size 432x288 with 1 Axes>"
      ]
     },
     "metadata": {
      "needs_background": "light"
     },
     "output_type": "display_data"
    }
   ],
   "source": [
    "df.groupby('age').size().plot(kind='bar')"
   ]
  },
  {
   "cell_type": "markdown",
   "metadata": {},
   "source": [
    "The plots look similar, and there does not seem to be bias based on age towards missing values. Let's check the same for continents."
   ]
  },
  {
   "cell_type": "code",
   "execution_count": 20,
   "metadata": {},
   "outputs": [
    {
     "data": {
      "text/plain": [
       "<AxesSubplot:xlabel='continent'>"
      ]
     },
     "execution_count": 20,
     "metadata": {},
     "output_type": "execute_result"
    },
    {
     "data": {
      "image/png": "[encoded data removed]",
      "text/plain": [
       "<Figure size 432x288 with 1 Axes>"
      ]
     },
     "metadata": {
      "needs_background": "light"
     },
     "output_type": "display_data"
    }
   ],
   "source": [
    "df.groupby('continent').size().plot(kind='bar')"
   ]
  },
  {
   "cell_type": "code",
   "execution_count": 21,
   "metadata": {},
   "outputs": [
    {
     "data": {
      "text/plain": [
       "<AxesSubplot:xlabel='continent'>"
      ]
     },
     "execution_count": 21,
     "metadata": {},
     "output_type": "execute_result"
    },
    {
     "data": {
      "image/png": "[encoded data removed]",
      "text/plain": [
       "<Figure size 432x288 with 1 Axes>"
      ]
     },
     "metadata": {
      "needs_background": "light"
     },
     "output_type": "display_data"
    }
   ],
   "source": [
    "no_miss_df.groupby('continent').size().plot(kind='bar')"
   ]
  },
  {
   "cell_type": "markdown",
   "metadata": {},
   "source": [
    "Interestingly, we drop a lot of North America data when we remove missing values. Our first question should be: how will this affect our calculations? If we just skip over values, will there be a significant difference in this sample mean versus the true mean? The big difficulty here is that **we simply do not know**. However, in this case, we can observe that the amount of data we have from North American customers is still comparable to the data from other customers, and the amount of complete data for North American customers is much larger than the amount of incomplete data.\n",
    "\n",
    "One sanity check we can make is to ensure that the average order value in North America with the data we currently have is similar to a comparable continent. Of course, we don't know where exactly this data comes from, so buying patterns could differ significantly across different continents, but this is the best we have to work with. Let's compare means of North America and Europe. "
   ]
  },
  {
   "cell_type": "code",
   "execution_count": 26,
   "metadata": {},
   "outputs": [
    {
     "data": {
      "text/plain": [
       "continent\n",
       "North America    277.049074\n",
       "Europe           276.602523\n",
       "Name: price, dtype: float64"
      ]
     },
     "execution_count": 26,
     "metadata": {},
     "output_type": "execute_result"
    }
   ],
   "source": [
    "df.groupby('continent').mean()['price'].loc[['North America', 'Europe']]"
   ]
  },
  {
   "cell_type": "markdown",
   "metadata": {},
   "source": [
    "The means are very similar. This can at least put us a little at ease. If we assume similar buying patterns between continents, then it means that the missing values are not biased towards high or low order values. Nevertheless, if you were to encounter data like this on the job, it would be prudent to let the developers know of this bias!"
   ]
  },
  {
   "cell_type": "markdown",
   "metadata": {},
   "source": [
    "What if we had seen drastically different mean average order values from North America and Europe? We would probably have to leave out the North America data from our exploration, and communicate this as part of our analysis. For now, let's continue looking into this data!"
   ]
  },
  {
   "cell_type": "code",
   "execution_count": 4,
   "metadata": {},
   "outputs": [],
   "source": [
    "#Average order value - your code goes below:\n"
   ]
  },
  {
   "cell_type": "markdown",
   "metadata": {},
   "source": [
    "### Question 5"
   ]
  },
  {
   "cell_type": "markdown",
   "metadata": {},
   "source": [
    "Let's think about how we can compare average order value across age ranges. It wouldn't be that helpful to look at average order value across each age --- instead, let's collapse the ages into ranges to allow for easier digestion when we look at the means. For now, let's convert ages into categories. Let's say anything under 30 is ```young```, between 30 and 60 is ```middle-aged```, and anything over 60 is ```senior```. Below, let's write a function that takes an age and returns one of these categories. "
   ]
  },
  {
   "cell_type": "code",
   "execution_count": 5,
   "metadata": {},
   "outputs": [],
   "source": [
    "#age range conversion function - your code goes below:\n",
    "def age_range(age):\n",
    "    return"
   ]
  },
  {
   "cell_type": "markdown",
   "metadata": {},
   "source": [
    "Next, we'll use this function to create a new column in our dataframe. This is a taste of what we'll be seeing next lesson!"
   ]
  },
  {
   "cell_type": "code",
   "execution_count": 34,
   "metadata": {},
   "outputs": [],
   "source": [
    "df['age-range'] = df['age'].apply(age_range)"
   ]
  },
  {
   "cell_type": "markdown",
   "metadata": {},
   "source": [
    "Now, let's calculate our average order value."
   ]
  },
  {
   "cell_type": "code",
   "execution_count": 6,
   "metadata": {},
   "outputs": [],
   "source": [
    "#average order value by age-range - your code goes below:\n"
   ]
  },
  {
   "cell_type": "markdown",
   "metadata": {},
   "source": [
    "### Question 6"
   ]
  },
  {
   "cell_type": "markdown",
   "metadata": {},
   "source": [
    "Finally, we can compare average order value by continent. Again, with the short analysis on missing values we did above, this should be fine."
   ]
  },
  {
   "cell_type": "code",
   "execution_count": 7,
   "metadata": {},
   "outputs": [],
   "source": [
    "#average order value by continent - your code goes below:\n"
   ]
  },
  {
   "cell_type": "markdown",
   "metadata": {},
   "source": [
    "## Recap"
   ]
  },
  {
   "cell_type": "markdown",
   "metadata": {},
   "source": [
    "We looked a bit into a dataset with some missing values, and we saw how to\n",
    "\n",
    "- Use the groupby function to aggregate our data\n",
    "- Proceed when there are missing values in our data\n",
    "- Practice some concepts we covered in class"
   ]
  }
 ],
 "metadata": {
  "kernelspec": {
   "display_name": "Python 3",
   "language": "python",
   "name": "python3"
  },
  "language_info": {
   "codemirror_mode": {
    "name": "ipython",
    "version": 3
   },
   "file_extension": ".py",
   "mimetype": "text/x-python",
   "name": "python",
   "nbconvert_exporter": "python",
   "pygments_lexer": "ipython3",
   "version": "3.7.4"
  }
 },
 "nbformat": 4,
 "nbformat_minor": 2
}
