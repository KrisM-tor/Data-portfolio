{
 "cells": [
  {
   "cell_type": "markdown",
   "metadata": {},
   "source": [
    "# Data Manipulation Assignment"
   ]
  },
  {
   "cell_type": "markdown",
   "metadata": {},
   "source": [
    "We're going to work with some bank loan data. Unfortunately, this data has become a bit disorganized. You can find it in the course repository, under the 'data' folder, titled *bank_info.log* and *bank_info.metadata*. We'll also make use of the *earnings.csv* file."
   ]
  },
  {
   "cell_type": "markdown",
   "metadata": {},
   "source": [
    "The finished product should be a dataframe with age, job, marital status, education level, default, and estimated salary columns. The metadata explains an issue with the marital status, education level, and default columns. You should complete the following steps (not necessary in the given order):\n",
    "\n",
    " - Marital status column should contain only 'single', 'married', or 'divorced' values.\n",
    " - Education level column should contain only 'unknown', 'primary', 'secondary', or 'tertiary' values.\n",
    " - Default column should contain only 'yes' or 'no' values.\n",
    " - Join the *earnings.csv* file to the bank information (when you have it as a dataframe) to get an estimated hourly wage per loan applicant. Use the hours each applicant works per week, as well as their estimated hourly wage, to create an estimated salary column. \n",
    " - Save and submit this work as a csv file!"
   ]
  },
  {
   "cell_type": "code",
   "execution_count": null,
   "metadata": {},
   "outputs": [],
   "source": [
    "#your code goes here!"
   ]
  }
 ],
 "metadata": {
  "kernelspec": {
   "display_name": "Python 3",
   "language": "python",
   "name": "python3"
  },
  "language_info": {
   "codemirror_mode": {
    "name": "ipython",
    "version": 3
   },
   "file_extension": ".py",
   "mimetype": "text/x-python",
   "name": "python",
   "nbconvert_exporter": "python",
   "pygments_lexer": "ipython3",
   "version": "3.7.4"
  }
 },
 "nbformat": 4,
 "nbformat_minor": 2
}
